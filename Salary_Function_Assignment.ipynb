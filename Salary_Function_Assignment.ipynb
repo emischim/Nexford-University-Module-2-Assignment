{
  "nbformat": 4,
  "nbformat_minor": 0,
  "metadata": {
    "colab": {
      "provenance": []
    },
    "kernelspec": {
      "name": "python3",
      "display_name": "Python 3"
    },
    "language_info": {
      "name": "python"
    }
  },
  "cells": [
    {
      "cell_type": "markdown",
      "source": [
        "# **Import Data**"
      ],
      "metadata": {
        "id": "_DRx1gTUEdZB"
      }
    },
    {
      "cell_type": "code",
      "execution_count": null,
      "metadata": {
        "id": "sum2PST1_CRg",
        "colab": {
          "base_uri": "https://localhost:8080/"
        },
        "outputId": "44a177ae-c1de-4b2c-f36d-944ea4092457"
      },
      "outputs": [
        {
          "output_type": "stream",
          "name": "stderr",
          "text": [
            "<ipython-input-12-2976f37649b1>:2: DtypeWarning: Columns (2,3,4,5) have mixed types. Specify dtype option on import or set low_memory=False.\n",
            "  salary_data = pd.read_csv('Total.csv')\n"
          ]
        }
      ],
      "source": [
        "import pandas as pd # Here, I am importing the pandas library to be able to load the data\n",
        "salary_data = pd.read_csv('Total.csv')"
      ]
    },
    {
      "cell_type": "markdown",
      "source": [
        "# **Create Employee Function**"
      ],
      "metadata": {
        "id": "UHvpHWEgKJ5v"
      }
    },
    {
      "cell_type": "code",
      "source": [
        "def retrieve_employee_details(employee_name): # Here, I am creating an employee function to retrieve the employee details based on the employee name\n",
        "    employee = salary_data[salary_data['EmployeeName'] == employee_name]\n",
        "    if employee.empty:\n",
        "        return f\"No details found for {employee_name}.\"\n",
        "    return employee"
      ],
      "metadata": {
        "id": "iw6KT3T8BALD"
      },
      "execution_count": null,
      "outputs": []
    },
    {
      "cell_type": "markdown",
      "source": [
        "# **Data Processing with Dictionary**"
      ],
      "metadata": {
        "id": "CNMBKDDCPzsn"
      }
    },
    {
      "cell_type": "code",
      "source": [
        "salary_dict = salary_data.to_dict(orient='records') # Here, I am just processing the data using a python dictionary and structuring the orientation of the output as a list of dictionaries"
      ],
      "metadata": {
        "id": "yimyZgyABRK8"
      },
      "execution_count": null,
      "outputs": []
    },
    {
      "cell_type": "markdown",
      "source": [
        "# **Error Handling**"
      ],
      "metadata": {
        "id": "HBZTxsV_QM54"
      }
    },
    {
      "cell_type": "code",
      "source": [
        "def retrieve_employee_details_safe(employee_name): # Here, I am creating a function for error handling. I added the suffix \"safe\" for clarity as to what the function is doing.\n",
        "    try:\n",
        "        employee = retrieve_employee_details(employee_name)\n",
        "        if isinstance(employee, str):\n",
        "            raise ValueError(employee)\n",
        "        return employee\n",
        "    except ValueError as ve:\n",
        "        print(f\"Error: {ve}\")\n",
        "    except Exception as e:\n",
        "        print(f\"An unexpected error occurred: {e}\")"
      ],
      "metadata": {
        "id": "bDAc17zPBWkF"
      },
      "execution_count": null,
      "outputs": []
    },
    {
      "cell_type": "markdown",
      "source": [
        "# **Export Employee Details**"
      ],
      "metadata": {
        "id": "0UtKdm52QXZO"
      }
    },
    {
      "cell_type": "code",
      "source": [
        "# Here, I am importing the necessary libraries and creating a function that exports the employee details to a csv file and zips it\n",
        "import os\n",
        "import zipfile\n",
        "\n",
        "def export_employee_details_to_csv(employee_name):\n",
        "    employee = retrieve_employee_details(employee_name)\n",
        "    if isinstance(employee, pd.DataFrame) and not employee.empty:\n",
        "        filename = f\"{employee_name}_details.csv\" # Here I am making the file name to be saved as the \"EmployeeName\" concatenated with \"_details\"\n",
        "        employee.to_csv(filename, index=False)\n",
        "        with zipfile.ZipFile('Employee Profile.zip', 'w') as zipf:\n",
        "            zipf.write(filename)\n",
        "        os.remove(filename)\n",
        "        print(f\"{filename} exported and zipped successfully.\")\n",
        "    else:\n",
        "        print(f\"Failed to export details for {employee_name}.\")\n",
        "\n",
        "# Here I am testing out an example, using a employee record with \"Emmanuel\" since my name is also Emmanuel:\n",
        "export_employee_details_to_csv('Emmanuel  Michel')\n"
      ],
      "metadata": {
        "id": "zmPYElf0Bbua",
        "colab": {
          "base_uri": "https://localhost:8080/"
        },
        "outputId": "d035444c-2abe-49a6-e881-e5153fdaa0c1"
      },
      "execution_count": null,
      "outputs": [
        {
          "output_type": "stream",
          "name": "stdout",
          "text": [
            "Emmanuel  Michel_details.csv exported and zipped successfully.\n"
          ]
        }
      ]
    },
    {
      "cell_type": "markdown",
      "source": [
        "# **Unzip and Display Data with R**"
      ],
      "metadata": {
        "id": "AxhOx3MfQd9L"
      }
    },
    {
      "cell_type": "code",
      "source": [
        "# Here, I am unzipping the folder using R\n",
        "unzip('Employee Profile.zip', exdir = 'Employee_Profile_Details')\n",
        "\n",
        "# Here, I am usgin R to read/load and display the data\n",
        "employee_data <- read.csv('Employee_Profile_Details/Emmanuel  Michel_details.csv')\n",
        "print(employee_data)"
      ],
      "metadata": {
        "colab": {
          "base_uri": "https://localhost:8080/"
        },
        "id": "iResnRcOCXBo",
        "outputId": "8f66ef60-a84d-4ed5-a7cd-50d3152a9d2e"
      },
      "execution_count": null,
      "outputs": [
        {
          "output_type": "stream",
          "name": "stdout",
          "text": [
            "      EmployeeName          JobTitle BasePay OvertimePay OtherPay Benefits\n",
            "1 Emmanuel  Michel Recreation Leader 1315.27           0    10.78    13.26\n",
            "  TotalPay TotalPayBenefits Year\n",
            "1  1326.05          1339.31 2013\n"
          ]
        }
      ]
    },
    {
      "cell_type": "code",
      "source": [],
      "metadata": {
        "id": "d0QRGglfCd2l"
      },
      "execution_count": null,
      "outputs": []
    }
  ]
}